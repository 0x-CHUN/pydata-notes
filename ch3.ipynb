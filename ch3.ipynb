{
 "metadata": {
  "language_info": {
   "codemirror_mode": {
    "name": "ipython",
    "version": 3
   },
   "file_extension": ".py",
   "mimetype": "text/x-python",
   "name": "python",
   "nbconvert_exporter": "python",
   "pygments_lexer": "ipython3",
   "version": "3.7.9-final"
  },
  "orig_nbformat": 2,
  "kernelspec": {
   "name": "python_defaultSpec_1599382621352",
   "display_name": "Python 3.7.9 64-bit ('base': conda)"
  }
 },
 "nbformat": 4,
 "nbformat_minor": 2,
 "cells": [
  {
   "cell_type": "markdown",
   "metadata": {},
   "source": [
    "# 内建数据结构、函数及文件"
   ]
  },
  {
   "cell_type": "markdown",
   "metadata": {},
   "source": [
    "## 数据结构和序列"
   ]
  },
  {
   "cell_type": "markdown",
   "metadata": {},
   "source": [
    "### 元组\n",
    "\n",
    "元组不可变"
   ]
  },
  {
   "cell_type": "code",
   "execution_count": 1,
   "metadata": {
    "tags": []
   },
   "outputs": [
    {
     "output_type": "stream",
     "name": "stdout",
     "text": "(1, 2, 3)\n((1, 2), 3)\n('a', 'b', 'c', 'd', 'e', 'f')\n1 2 3\n"
    }
   ],
   "source": [
    "tup = (1, 2, 3)\n",
    "print(tup)\n",
    "nested_tup = ((1, 2), 3)\n",
    "print(nested_tup)\n",
    "print(tuple(\"abcdef\"))\n",
    "\n",
    "a, b, c = tup\n",
    "print(a, b, c)"
   ]
  },
  {
   "cell_type": "markdown",
   "metadata": {},
   "source": [
    "### 列表\n",
    "\n",
    "列表长度可变，且内容可以修改"
   ]
  },
  {
   "cell_type": "code",
   "execution_count": 2,
   "metadata": {
    "tags": []
   },
   "outputs": [
    {
     "output_type": "stream",
     "name": "stdout",
     "text": "[1, 2, 3, 4]\nlen : 4\n[0, 1, 2, 3, 4]\n[1, 2, 3, 4]\n[1, 2, 3]\n"
    }
   ],
   "source": [
    "a = [1, 2, 3]\n",
    "a.append(4)\n",
    "print(a)\n",
    "print(\"len : {}\".format(len(a)))\n",
    "a.insert(0,0)\n",
    "print(a)\n",
    "a.remove(0)\n",
    "print(a)\n",
    "a.pop()\n",
    "print(a)"
   ]
  },
  {
   "cell_type": "markdown",
   "metadata": {},
   "source": [
    "### 内建序列函数"
   ]
  },
  {
   "cell_type": "code",
   "execution_count": 3,
   "metadata": {
    "tags": []
   },
   "outputs": [
    {
     "output_type": "stream",
     "name": "stdout",
     "text": "0 : a\n1 : b\n2 : c\n3 : d\n4 : e\n5 : f\n"
    }
   ],
   "source": [
    "alpha = list(\"abcdef\")\n",
    "for i, val in enumerate(alpha):\n",
    "    print(\"{} : {}\".format(i, val))"
   ]
  },
  {
   "cell_type": "code",
   "execution_count": 4,
   "metadata": {
    "tags": []
   },
   "outputs": [
    {
     "output_type": "stream",
     "name": "stdout",
     "text": "[1, 2, 3, 4, 4, 7]\n"
    }
   ],
   "source": [
    "print(sorted([3, 4, 1, 4, 7, 2]))"
   ]
  },
  {
   "cell_type": "code",
   "execution_count": 5,
   "metadata": {
    "tags": []
   },
   "outputs": [
    {
     "output_type": "stream",
     "name": "stdout",
     "text": "1 : a\n2 : b\n3 : c\n"
    }
   ],
   "source": [
    "index = [1, 2, 3]\n",
    "alpha = ['a', 'b', 'c']\n",
    "for (i, val) in zip(index, alpha):\n",
    "    print(\"{} : {}\".format(i, val))"
   ]
  },
  {
   "cell_type": "code",
   "execution_count": 6,
   "metadata": {
    "tags": []
   },
   "outputs": [
    {
     "output_type": "stream",
     "name": "stdout",
     "text": "[4, 3, 2, 1]\n"
    }
   ],
   "source": [
    "print(list(reversed([1, 2, 3, 4])))"
   ]
  },
  {
   "cell_type": "markdown",
   "metadata": {},
   "source": [
    "### 字典\n",
    "\n",
    "键值对集合"
   ]
  },
  {
   "cell_type": "code",
   "execution_count": 13,
   "metadata": {
    "tags": []
   },
   "outputs": [
    {
     "output_type": "stream",
     "name": "stdout",
     "text": "{'a': 1, 'b': 2}\n1\n{'a': 3, 'b': 2}\ndict_keys(['a', 'b'])\ndict_values([3, 2])\n{'a': 1, 'b': 2, 'c': 3}\n"
    }
   ],
   "source": [
    "dic = {'a' : 1, 'b' : 2}\n",
    "print(dic)\n",
    "print(dic['a'])\n",
    "dic['a'] = 3\n",
    "print(dic)\n",
    "print(dic.keys())\n",
    "print(dic.values())\n",
    "dic.update({'a' : 1, 'c' : 3})\n",
    "print(dic)"
   ]
  },
  {
   "cell_type": "markdown",
   "metadata": {},
   "source": [
    "### 集合\n",
    "\n",
    "无序且元素唯一的容器"
   ]
  },
  {
   "cell_type": "code",
   "execution_count": 19,
   "metadata": {
    "tags": []
   },
   "outputs": [
    {
     "output_type": "stream",
     "name": "stdout",
     "text": "{1, 2, 3, 4}\n{1, 2, 3, 4, 5}\n{1, 2}\n{3, 4}\n{4, 5}\n"
    }
   ],
   "source": [
    "s = set([1, 1, 2, 3, 3, 4])\n",
    "print(s)\n",
    "print(s.union({5}))\n",
    "print(s.intersection({1, 2, 7}))\n",
    "print(s.difference({1, 2}))\n",
    "print(s.symmetric_difference({1, 2, 3, 5}))"
   ]
  },
  {
   "cell_type": "markdown",
   "metadata": {},
   "source": [
    "## 函数"
   ]
  },
  {
   "cell_type": "code",
   "execution_count": 20,
   "metadata": {
    "tags": []
   },
   "outputs": [
    {
     "output_type": "stream",
     "name": "stdout",
     "text": "2\n"
    }
   ],
   "source": [
    "def func(a, b):\n",
    "    return a + b\n",
    "\n",
    "print(func(1, 1))"
   ]
  },
  {
   "cell_type": "code",
   "execution_count": 21,
   "metadata": {
    "tags": []
   },
   "outputs": [
    {
     "output_type": "stream",
     "name": "stdout",
     "text": "4\n"
    }
   ],
   "source": [
    "square = lambda x : x * x\n",
    "print(square(2))"
   ]
  },
  {
   "cell_type": "code",
   "execution_count": 22,
   "metadata": {
    "tags": []
   },
   "outputs": [
    {
     "output_type": "stream",
     "name": "stdout",
     "text": "9\n"
    }
   ],
   "source": [
    "def mul(a, b):\n",
    "    return a * b\n",
    "\n",
    "square = lambda x : mul(x, x)\n",
    "\n",
    "print(square(3))"
   ]
  }
 ]
}