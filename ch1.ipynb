{
 "metadata": {
  "language_info": {
   "codemirror_mode": {
    "name": "ipython",
    "version": 3
   },
   "file_extension": ".py",
   "mimetype": "text/x-python",
   "name": "python",
   "nbconvert_exporter": "python",
   "pygments_lexer": "ipython3",
   "version": 3
  },
  "orig_nbformat": 2
 },
 "nbformat": 4,
 "nbformat_minor": 2,
 "cells": [
  {
   "cell_type": "markdown",
   "metadata": {},
   "source": [
    "# 准备工作"
   ]
  },
  {
   "cell_type": "markdown",
   "metadata": {},
   "source": [
    "学习的几个库：\n",
    "\n",
    "* Numpy：提供多种数据结构、算法以及大部分涉及数值计算的接口；\n",
    "\n",
    "* Pandas：提供了高级数据结构和函数，便于处理结构化、表格化的数据；\n",
    "\n",
    "* matplotlib：用于绘制图片以及二维数据可视化的库；\n",
    "\n",
    "* SciPy：科学计算领域针对不同标准问题的包集合；\n",
    "\n",
    "* scikit-learn：机器学习工具包\n",
    "\n",
    "* statsmodels：统计分析包"
   ]
  }
 ]
}